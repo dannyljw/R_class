{
 "cells": [
  {
   "cell_type": "code",
   "execution_count": null,
   "id": "f0e4aa40",
   "metadata": {
    "ExecuteTime": {
     "start_time": "2021-11-10T15:20:10.957Z"
    }
   },
   "outputs": [],
   "source": [
    "install.packages(\"titanic\")\n",
    "library(titanic)\n",
    "str(titanic_train)\n",
    "str(titanic_test)\n",
    "str(titanic_gender_model)\n",
    "str(titanic_gender_class_model)\n",
    "Titanic"
   ]
  },
  {
   "cell_type": "code",
   "execution_count": null,
   "id": "d301f5a4",
   "metadata": {
    "ExecuteTime": {
     "start_time": "2021-11-10T15:20:41.686Z"
    }
   },
   "outputs": [],
   "source": [
    "write.csv(titanic_gender_class_model,'titanic_danny_gen_class.csv',row.names = F)\n",
    "write.csv(titanic_gender_model,'titanic_danny_gen.csv',row.names = F)\n",
    "write.csv(titanic_train,'titanic_traindataset.csv', row.names = F)"
   ]
  },
  {
   "cell_type": "code",
   "execution_count": null,
   "id": "5f3cad91",
   "metadata": {},
   "outputs": [],
   "source": []
  },
  {
   "cell_type": "code",
   "execution_count": null,
   "id": "8d3b3572",
   "metadata": {},
   "outputs": [],
   "source": []
  },
  {
   "cell_type": "code",
   "execution_count": null,
   "id": "12457211",
   "metadata": {},
   "outputs": [],
   "source": []
  },
  {
   "cell_type": "code",
   "execution_count": null,
   "id": "51ba8db7",
   "metadata": {},
   "outputs": [],
   "source": []
  },
  {
   "cell_type": "code",
   "execution_count": null,
   "id": "d1da887e",
   "metadata": {},
   "outputs": [],
   "source": []
  },
  {
   "cell_type": "code",
   "execution_count": null,
   "id": "9da7f7d5",
   "metadata": {},
   "outputs": [],
   "source": []
  },
  {
   "cell_type": "code",
   "execution_count": null,
   "id": "e3a067c3",
   "metadata": {},
   "outputs": [],
   "source": []
  },
  {
   "cell_type": "code",
   "execution_count": null,
   "id": "7797acd5",
   "metadata": {},
   "outputs": [],
   "source": []
  },
  {
   "cell_type": "code",
   "execution_count": null,
   "id": "40535e20",
   "metadata": {},
   "outputs": [],
   "source": []
  },
  {
   "cell_type": "code",
   "execution_count": null,
   "id": "60ccc319",
   "metadata": {},
   "outputs": [],
   "source": []
  },
  {
   "cell_type": "code",
   "execution_count": null,
   "id": "4569148e",
   "metadata": {},
   "outputs": [],
   "source": []
  },
  {
   "cell_type": "code",
   "execution_count": null,
   "id": "67aa0f12",
   "metadata": {},
   "outputs": [],
   "source": []
  }
 ],
 "metadata": {
  "hide_input": false,
  "kernelspec": {
   "display_name": "R",
   "language": "R",
   "name": "ir"
  },
  "varInspector": {
   "cols": {
    "lenName": 16,
    "lenType": 16,
    "lenVar": 40
   },
   "kernels_config": {
    "python": {
     "delete_cmd_postfix": "",
     "delete_cmd_prefix": "del ",
     "library": "var_list.py",
     "varRefreshCmd": "print(var_dic_list())"
    },
    "r": {
     "delete_cmd_postfix": ") ",
     "delete_cmd_prefix": "rm(",
     "library": "var_list.r",
     "varRefreshCmd": "cat(var_dic_list()) "
    }
   },
   "types_to_exclude": [
    "module",
    "function",
    "builtin_function_or_method",
    "instance",
    "_Feature"
   ],
   "window_display": false
  }
 },
 "nbformat": 4,
 "nbformat_minor": 5
}
